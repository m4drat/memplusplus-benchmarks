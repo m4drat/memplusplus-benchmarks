{
 "cells": [
  {
   "cell_type": "code",
   "execution_count": 1,
   "metadata": {},
   "outputs": [],
   "source": [
    "import json\n",
    "import seaborn as sns\n",
    "import pandas as pd\n",
    "import matplotlib.pyplot as plt"
   ]
  },
  {
   "cell_type": "code",
   "execution_count": 15,
   "metadata": {},
   "outputs": [],
   "source": [
    "# Load data for all benchmarks\n",
    "\n",
    "results_dir = '2022-10-26T-16_26_25Z'\n",
    "\n",
    "jemalloc_results = json.load(open(f'{results_dir}/jemalloc.json'))['benchmarks']\n",
    "mimalloc_results = json.load(open(f'{results_dir}/mimalloc.json'))['benchmarks']\n",
    "mpp_results = json.load(open(f'{results_dir}/mpp.json'))['benchmarks']\n",
    "ptmalloc2_results = json.load(open(f'{results_dir}/ptmalloc2.json'))['benchmarks']\n",
    "ptmalloc3_results = json.load(open(f'{results_dir}/ptmalloc3.json'))['benchmarks']\n",
    "rpmalloc_results = json.load(open(f'{results_dir}/rpmalloc.json'))['benchmarks']\n",
    "\n",
    "results_all_json = {\n",
    "    'jemalloc': jemalloc_results,\n",
    "    'mimalloc': mimalloc_results,\n",
    "    'mpp': mpp_results,\n",
    "    'ptmalloc2': ptmalloc2_results,\n",
    "    'ptmalloc3': ptmalloc3_results,\n",
    "    'rpmalloc': rpmalloc_results,\n",
    "}"
   ]
  },
  {
   "cell_type": "code",
   "execution_count": 21,
   "metadata": {},
   "outputs": [
    {
     "name": "stdout",
     "output_type": "stream",
     "text": [
      "jemalloc: 306 benchmarks\n",
      "  BM_Complex/\"Total ops: \" \"2'000'000\" \"Transition matrix: ver-1\"/iterations:5_mean: 3774.869444000006\n",
      "mimalloc: 306 benchmarks\n",
      "  BM_Complex/\"Total ops: \" \"2'000'000\" \"Transition matrix: ver-1\"/iterations:5_mean: 1328.4654159999627\n",
      "mpp: 522 benchmarks\n",
      "  BM_Complex/\"Total ops: \" \"2'000'000\" \"Transition matrix: ver-1\"/iterations:5_mean: 2026.458751999999\n",
      "ptmalloc2: 306 benchmarks\n",
      "  BM_Complex/\"Total ops: \" \"2'000'000\" \"Transition matrix: ver-1\"/iterations:5_mean: 1419.7406279999996\n",
      "ptmalloc3: 306 benchmarks\n",
      "  BM_Complex/\"Total ops: \" \"2'000'000\" \"Transition matrix: ver-1\"/iterations:5_mean: 47440.889451999974\n",
      "rpmalloc: 306 benchmarks\n",
      "  BM_Complex/\"Total ops: \" \"2'000'000\" \"Transition matrix: ver-1\"/iterations:5_mean: 2867.375044000001\n"
     ]
    }
   ],
   "source": [
    "for allocator_name, allocator_benchmarks in results_all_json.items():\n",
    "    print(f'{allocator_name}: {len(allocator_benchmarks)} benchmarks')\n",
    "    for bm in allocator_benchmarks:\n",
    "        if bm['name'].startswith('BM_Complex') and bm['name'].endswith('5_mean') and bm['name'].find('2\\'000\\'000') != -1:\n",
    "            print(f'  {bm[\"name\"]}: {bm[\"real_time\"]}')\n",
    "            \n",
    "# Draw barplot for all benchmarks\n"
   ]
  },
  {
   "cell_type": "code",
   "execution_count": null,
   "metadata": {},
   "outputs": [],
   "source": []
  }
 ],
 "metadata": {
  "kernelspec": {
   "display_name": "Python 3.8.10 64-bit",
   "language": "python",
   "name": "python3"
  },
  "language_info": {
   "codemirror_mode": {
    "name": "ipython",
    "version": 3
   },
   "file_extension": ".py",
   "mimetype": "text/x-python",
   "name": "python",
   "nbconvert_exporter": "python",
   "pygments_lexer": "ipython3",
   "version": "3.8.10"
  },
  "orig_nbformat": 4,
  "vscode": {
   "interpreter": {
    "hash": "31f2aee4e71d21fbe5cf8b01ff0e069b9275f58929596ceb00d14d90e3e16cd6"
   }
  }
 },
 "nbformat": 4,
 "nbformat_minor": 2
}
